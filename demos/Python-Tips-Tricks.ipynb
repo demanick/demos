{
 "cells": [
  {
   "cell_type": "markdown",
   "metadata": {},
   "source": [
    "# Python Tips, Tricks, & Best Practices\n",
    "This notebook walks you through a series of tips, tricks and best practices to help you write more efficeint, more readable and just all around better Python code. The tasks in this notebook are framed in terms familiar to data scientists but the lessons learned can be applied by anyone writing Python code. Furthermore these are not necessarily the \"best\" way to tackle these tasks, but they are sufficiently better than typical beginner to novice level code.\n",
    "\n",
    "In this notebook you will learn about:\n",
    "* List/Dictionary comprehension\n",
    "* How to write easy-to-use functions\n",
    "* Accessing elements from dictionaries using `.get()`\n",
    "* Ternary conditionals\n",
    "* Iterating through multiple arrays at once with `zip`\n",
    "* `args` and `kwargs`\n",
    "* Dynamic object initialization with `setattr`\n",
    "\n",
    "And more!"
   ]
  },
  {
   "cell_type": "code",
   "execution_count": 15,
   "metadata": {},
   "outputs": [],
   "source": [
    "import random\n",
    "\n",
    "FEATURES_UNI = [random.randrange(100) for _ in range(10)]\n",
    "FEATURES_MULTI = [(random.randrange(100), random.randrange(100)) for _ in range(10)]\n",
    "LABELS = [bool(round(random.random())) for _ in range(10)]"
   ]
  },
  {
   "cell_type": "markdown",
   "metadata": {},
   "source": [
    "## TASK: Feature Engineering\n",
    "Create a second feature from the numbers in `FEATURES_UNI` by squaring each. Store these features in a list of tuples, the first object of the tuple should be the original feature and the second is the newly created one."
   ]
  },
  {
   "cell_type": "code",
   "execution_count": 16,
   "metadata": {},
   "outputs": [
    {
     "name": "stdout",
     "output_type": "stream",
     "text": [
      "[(44, 1936), (63, 3969), (65, 4225), (65, 4225), (78, 6084), (62, 3844), (22, 484), (78, 6084), (69, 4761), (53, 2809)]\n",
      "[(44, 1936), (63, 3969), (65, 4225), (65, 4225), (78, 6084), (62, 3844), (22, 484), (78, 6084), (69, 4761), (53, 2809)]\n"
     ]
    }
   ],
   "source": [
    "# Option 1: for loops\n",
    "x_transform = []\n",
    "for x in FEATURES_UNI:\n",
    "    x_transform.append((x, x ** 2))\n",
    "print(x_transform)\n",
    "    \n",
    "# Option 2: list comprehension\n",
    "x_transform = [(x, x ** 2) for x in FEATURES_UNI]\n",
    "print(x_transform)"
   ]
  },
  {
   "cell_type": "markdown",
   "metadata": {},
   "source": [
    "Repeat the task but only for even numbers"
   ]
  },
  {
   "cell_type": "code",
   "execution_count": 17,
   "metadata": {},
   "outputs": [
    {
     "name": "stdout",
     "output_type": "stream",
     "text": [
      "[(44, 1936), (78, 6084), (62, 3844), (22, 484), (78, 6084)]\n",
      "[(44, 1936), (78, 6084), (62, 3844), (22, 484), (78, 6084)]\n"
     ]
    }
   ],
   "source": [
    "# Option 1: for loops\n",
    "x_transform = []\n",
    "for x in FEATURES_UNI:\n",
    "    if x % 2 == 0:\n",
    "        x_transform.append((x, x ** 2))\n",
    "print(x_transform)\n",
    "    \n",
    "# Option 2: list comprehension\n",
    "x_transform = [(x, x ** 2) for x in FEATURES_UNI if x % 2 == 0]\n",
    "print(x_transform)"
   ]
  },
  {
   "cell_type": "markdown",
   "metadata": {},
   "source": [
    "Repeat the task again but this time, take the square root of even numbers and the square of all others"
   ]
  },
  {
   "cell_type": "code",
   "execution_count": 29,
   "metadata": {},
   "outputs": [
    {
     "name": "stdout",
     "output_type": "stream",
     "text": [
      "[(44, 6.6332495807108), (63, 3969), (65, 4225), (65, 4225), (78, 8.831760866327848), (62, 7.874007874011811), (22, 4.69041575982343), (78, 8.831760866327848), (69, 4761), (53, 2809)]\n",
      "[(44, 6.6332495807108), (63, 3969), (65, 4225), (65, 4225), (78, 8.831760866327848), (62, 7.874007874011811), (22, 4.69041575982343), (78, 8.831760866327848), (69, 4761), (53, 2809)]\n"
     ]
    }
   ],
   "source": [
    "# Option 1: for loops\n",
    "x_transform = []\n",
    "for x in FEATURES_UNI:\n",
    "    if x % 2 == 0:\n",
    "        x_transform.append((x, x ** 0.5))\n",
    "    else:\n",
    "        x_transform.append((x, x ** 2))\n",
    "print(x_transform)\n",
    "    \n",
    "# Option 2: list comprehension\n",
    "x_transform = [(x, x ** 0.5) if x % 2 == 0 else (x, x ** 2) for x in FEATURES_UNI]\n",
    "print(x_transform)"
   ]
  },
  {
   "cell_type": "code",
   "execution_count": 30,
   "metadata": {},
   "outputs": [
    {
     "name": "stdout",
     "output_type": "stream",
     "text": [
      "{44: 6.6332495807108, 63: 3969, 65: 4225, 78: 8.831760866327848, 62: 7.874007874011811, 22: 4.69041575982343, 69: 4761, 53: 2809}\n"
     ]
    }
   ],
   "source": [
    "# list comprehension can also be done for dictionaries\n",
    "x_transform_dict = {x[0]: x[1] for x in x_transform}\n",
    "print(x_transform_dict)"
   ]
  },
  {
   "cell_type": "markdown",
   "metadata": {},
   "source": [
    "## TASK: Feature Transformation\n",
    "Write a function that normalizes a list of data"
   ]
  },
  {
   "cell_type": "code",
   "execution_count": 32,
   "metadata": {},
   "outputs": [
    {
     "data": {
      "text/plain": [
       "[-0.9974780272729625,\n",
       " 0.19447684808466575,\n",
       " 0.31994578233283716,\n",
       " 0.31994578233283716,\n",
       " 1.1354938549459512,\n",
       " 0.13174238096058005,\n",
       " -2.3776363040028476,\n",
       " 1.1354938549459512,\n",
       " 0.5708836508291799,\n",
       " -0.4328678231561912]"
      ]
     },
     "execution_count": 32,
     "metadata": {},
     "output_type": "execute_result"
    }
   ],
   "source": [
    "def norm(a):\n",
    "    b = []\n",
    "    try:\n",
    "        m = sum(a) / len(a)\n",
    "        s = (sum([(i - m) ** 2 for i in a]) / len(a)) ** 0.5\n",
    "        for i in a:\n",
    "            b.append((i - m) / s)\n",
    "    except:\n",
    "        return 0\n",
    "    return b\n",
    "\n",
    "norm(FEATURES_UNI)"
   ]
  },
  {
   "cell_type": "markdown",
   "metadata": {},
   "source": [
    "This works but has a lot of issues:\n",
    "* Difficult to read (from the name of the function itself to the name of the variables, wtf is going on)\n",
    "* Try/Except wraps too much logic\n",
    "* Function returns multiple data types\n",
    "* No documentation\n",
    "\n",
    "Let's write a better implementation below:"
   ]
  },
  {
   "cell_type": "code",
   "execution_count": 21,
   "metadata": {},
   "outputs": [
    {
     "data": {
      "text/plain": [
       "[-0.9974780272729625,\n",
       " 0.19447684808466575,\n",
       " 0.31994578233283716,\n",
       " 0.31994578233283716,\n",
       " 1.1354938549459512,\n",
       " 0.13174238096058005,\n",
       " -2.3776363040028476,\n",
       " 1.1354938549459512,\n",
       " 0.5708836508291799,\n",
       " -0.4328678231561912]"
      ]
     },
     "execution_count": 21,
     "metadata": {},
     "output_type": "execute_result"
    }
   ],
   "source": [
    "def normalize(x):\n",
    "    \"\"\"\n",
    "    Normalizes a list of scalar values using a standard scaler\n",
    "    \n",
    "    Args:\n",
    "      x (list of floats): data to be normalized\n",
    "      \n",
    "    Returns a list of floats\n",
    "    \"\"\"\n",
    "    # make sure all values are scalars\n",
    "    try:\n",
    "        sum(x)\n",
    "    except TypeError:\n",
    "        raise TypeError('All values in list must be either float or int')\n",
    "    \n",
    "    # calculate mean and standard deviation\n",
    "    mean = sum(x) / len(x)\n",
    "    variance = sum([(val - mean) ** 2 for val in x]) / len(x)\n",
    "    std = variance ** 0.5\n",
    "    \n",
    "    return [(val - mean) / std for val in x]\n",
    "    \n",
    "normalize(FEATURES_UNI)"
   ]
  },
  {
   "cell_type": "markdown",
   "metadata": {},
   "source": [
    "## TASK: Weight Initializing\n",
    "Given a dictionary of hyperparameters, check for the presence of a key named `weights`. If present, use them as your initial model weights, if not present, use all 0s."
   ]
  },
  {
   "cell_type": "code",
   "execution_count": 22,
   "metadata": {},
   "outputs": [],
   "source": [
    "hparams = {\n",
    "    'learning_rate': 0.001,\n",
    "    'epochs': 20,\n",
    "    'batch_size': 500\n",
    "}"
   ]
  },
  {
   "cell_type": "code",
   "execution_count": 23,
   "metadata": {},
   "outputs": [
    {
     "name": "stdout",
     "output_type": "stream",
     "text": [
      "[0.0, 0.0]\n",
      "[0.0, 0.0]\n",
      "[0.0, 0.0]\n"
     ]
    }
   ],
   "source": [
    "# Option 1: if/else statements\n",
    "if 'weights' in hparams:\n",
    "    weights = hparams['weights']\n",
    "else:\n",
    "    weights = [0. for _ in FEATURES_MULTI[0]]\n",
    "print(weights)\n",
    "\n",
    "# Option 2: .get()\n",
    "weights = hparams.get('weights', [0. for _ in FEATURES_MULTI[0]])\n",
    "print(weights)\n",
    "\n",
    "# Option 3: ternary conditionals\n",
    "weights = hparams.get('weights') or [0. for _ in FEATURES_MULTI[0]]\n",
    "print(weights)"
   ]
  },
  {
   "cell_type": "markdown",
   "metadata": {},
   "source": [
    "## TASK: Prediction\n",
    "Given a list of features and a list of weights, calculate the predicted value by multiplying each feature by its corresponding weight."
   ]
  },
  {
   "cell_type": "code",
   "execution_count": 24,
   "metadata": {},
   "outputs": [
    {
     "name": "stdout",
     "output_type": "stream",
     "text": [
      "2423.3297423133768\n",
      "2423.3297423133768\n",
      "2423.3297423133768\n"
     ]
    }
   ],
   "source": [
    "weights = [10 * random.random() for _ in FEATURES_UNI]\n",
    "\n",
    "# Option 1: for loops and indexing\n",
    "value = 0\n",
    "for i in range(len(FEATURES_UNI)):\n",
    "    value += FEATURES_UNI[i] * weights[i]\n",
    "print(value)\n",
    "    \n",
    "# Option 2: for loops and zip\n",
    "value = 0\n",
    "for f, w in zip(FEATURES_UNI, weights):\n",
    "    value += f * w\n",
    "print(value)\n",
    "\n",
    "# Option 3: list comprehension and zip\n",
    "value = sum([f * w for f, w in zip(FEATURES_UNI, weights)])\n",
    "print(value)"
   ]
  },
  {
   "cell_type": "markdown",
   "metadata": {},
   "source": [
    "## TASK: Model Building\n",
    "You are building a super general machine learning model class for other Data Scientists to use. Because this model is super general it should have only three inputs: `features`, `labels` and `hyperparameters`. How would you implement?"
   ]
  },
  {
   "cell_type": "code",
   "execution_count": 25,
   "metadata": {},
   "outputs": [
    {
     "name": "stdout",
     "output_type": "stream",
     "text": [
      "{'features': [44, 63, 65, 65, 78, 62, 22, 78, 69, 53], 'labels': [True, True, True, False, True, False, False, False, False, False], 'hparams': {'learning_rate': 0.001, 'epochs': 5}}\n"
     ]
    }
   ],
   "source": [
    "# Option 1: pass hyperparameters as a dictionary\n",
    "class BaseModel(object):\n",
    "    def __init__(self, features, labels, hparams):\n",
    "        self.features = features\n",
    "        self.labels = labels\n",
    "        self.hparams = hparams\n",
    "\n",
    "# Example\n",
    "class MyModel(BaseModel):\n",
    "    pass\n",
    "my_model = MyModel(FEATURES_UNI, LABELS, {'learning_rate': 0.001, 'epochs': 5})\n",
    "print(my_model.__dict__)"
   ]
  },
  {
   "cell_type": "code",
   "execution_count": 26,
   "metadata": {},
   "outputs": [
    {
     "name": "stdout",
     "output_type": "stream",
     "text": [
      "{'features': [44, 63, 65, 65, 78, 62, 22, 78, 69, 53], 'labels': [True, True, True, False, True, False, False, False, False, False], 'learning_rate': 0.001, 'epochs': 5}\n"
     ]
    }
   ],
   "source": [
    "# Option 2: pass hyperparameters as dictionary and unpack key-value pairs as attributes\n",
    "class BaseModel(object):\n",
    "    def __init__(self, features, labels, hparams):\n",
    "        self.features = features\n",
    "        self.labels = labels\n",
    "        \n",
    "        for k, v in hparams.items():\n",
    "            setattr(self, k, v)\n",
    "        \n",
    "# Example\n",
    "class MyModel(BaseModel):\n",
    "    pass\n",
    "my_model = MyModel(FEATURES_UNI, LABELS, {'learning_rate': 0.001, 'epochs': 5})\n",
    "print(my_model.__dict__)"
   ]
  },
  {
   "cell_type": "code",
   "execution_count": 27,
   "metadata": {},
   "outputs": [
    {
     "name": "stdout",
     "output_type": "stream",
     "text": [
      "{'features': [44, 63, 65, 65, 78, 62, 22, 78, 69, 53], 'labels': [True, True, True, False, True, False, False, False, False, False], 'learning_rate': 0.001, 'epochs': 5}\n"
     ]
    }
   ],
   "source": [
    "# Option 3: use kwargs and set as attributes\n",
    "class BaseModel(object):\n",
    "    def __init__(self, features, labels, **kwargs):\n",
    "        self.features = features\n",
    "        self.labels = labels\n",
    "        \n",
    "        for k, v  in kwargs.items():\n",
    "            setattr(self, k, v)\n",
    "\n",
    "# Example\n",
    "class MyModel(BaseModel):\n",
    "    pass\n",
    "my_model = MyModel(FEATURES_UNI, LABELS, learning_rate=0.001, epochs=5)\n",
    "print(my_model.__dict__)"
   ]
  },
  {
   "cell_type": "code",
   "execution_count": 28,
   "metadata": {},
   "outputs": [
    {
     "name": "stdout",
     "output_type": "stream",
     "text": [
      "{'features': [44, 63, 65, 65, 78, 62, 22, 78, 69, 53], 'labels': [True, True, True, False, True, False, False, False, False, False], 'learning_rate': 0.001, 'epochs': 5}\n"
     ]
    }
   ],
   "source": [
    "# Option 4: abandond all sense of structure\n",
    "class BaseModel(object):\n",
    "    def __init__(self, *args, **kwargs):\n",
    "        self.features = args[0]\n",
    "        self.labels = args[1]\n",
    "        \n",
    "        for k, v  in kwargs.items():\n",
    "            setattr(self, k, v)\n",
    "\n",
    "# Example\n",
    "class MyModel(BaseModel):\n",
    "    pass\n",
    "my_model = MyModel(FEATURES_UNI, LABELS, ['random', 'shit'], learning_rate=0.001, epochs=5)\n",
    "print(my_model.__dict__)"
   ]
  }
 ],
 "metadata": {
  "kernelspec": {
   "display_name": "Python 3",
   "language": "python",
   "name": "python3"
  },
  "language_info": {
   "codemirror_mode": {
    "name": "ipython",
    "version": 3
   },
   "file_extension": ".py",
   "mimetype": "text/x-python",
   "name": "python",
   "nbconvert_exporter": "python",
   "pygments_lexer": "ipython3",
   "version": "3.7.6"
  }
 },
 "nbformat": 4,
 "nbformat_minor": 4
}
